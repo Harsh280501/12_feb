{
 "cells": [
  {
   "cell_type": "markdown",
   "id": "4cf5c35e-1784-44d0-b8d0-ce8145816b3e",
   "metadata": {},
   "source": [
    "# Q1 What is an exception in python ? Write the difference between exception and syntax"
   ]
  },
  {
   "cell_type": "code",
   "execution_count": 4,
   "id": "15ab48da-3626-43cf-b070-3f8195ee4e35",
   "metadata": {},
   "outputs": [
    {
     "data": {
      "text/plain": [
       "'\\nException : Exception is a way that is used to handle a piece of code and there is a possibilty that an error can occured\\n\\nException error can be used to show error related to it however the code can run even after the run.\\nMoreover when there is syntax error the code will not execute further more.\\n\\n'"
      ]
     },
     "execution_count": 4,
     "metadata": {},
     "output_type": "execute_result"
    }
   ],
   "source": [
    "\"\"\"\n",
    "Exception : Exception is a way that is used to handle a piece of code and there is a possibilty that an error can occured\n",
    "\n",
    "Exception error can be used to show error related to it however the code can run even after the run.\n",
    "Moreover when there is syntax error the code will not execute further more.\n",
    "\n",
    "\"\"\""
   ]
  },
  {
   "cell_type": "markdown",
   "id": "4de5ab95-95bc-4498-ad25-56b038da10a2",
   "metadata": {},
   "source": [
    "# Q2 What happens when an exception is not hamdled ? Explain with an example\n"
   ]
  },
  {
   "cell_type": "code",
   "execution_count": 6,
   "id": "40439ce2-eec9-4501-974e-a6aee830401f",
   "metadata": {},
   "outputs": [
    {
     "ename": "ZeroDivisionError",
     "evalue": "division by zero",
     "output_type": "error",
     "traceback": [
      "\u001b[0;31m---------------------------------------------------------------------------\u001b[0m",
      "\u001b[0;31mZeroDivisionError\u001b[0m                         Traceback (most recent call last)",
      "Cell \u001b[0;32mIn[6], line 6\u001b[0m\n\u001b[1;32m      1\u001b[0m \u001b[38;5;124;03m\"\"\"\u001b[39;00m\n\u001b[1;32m      2\u001b[0m \u001b[38;5;124;03mWhen an exception is not handle the code doesnot run further and the code might get bursted.\u001b[39;00m\n\u001b[1;32m      3\u001b[0m \n\u001b[1;32m      4\u001b[0m \u001b[38;5;124;03m\"\"\"\u001b[39;00m\n\u001b[1;32m      5\u001b[0m a \u001b[38;5;241m=\u001b[39m \u001b[38;5;241m5\u001b[39m\n\u001b[0;32m----> 6\u001b[0m a \u001b[38;5;241m=\u001b[39m \u001b[43ma\u001b[49m\u001b[38;5;241;43m/\u001b[39;49m\u001b[38;5;241;43m0\u001b[39;49m\n",
      "\u001b[0;31mZeroDivisionError\u001b[0m: division by zero"
     ]
    }
   ],
   "source": [
    "\"\"\"\n",
    "When an exception is not handle the code doesnot run further and the code might get bursted.\n",
    "\n",
    "\"\"\"\n",
    "a = 5\n",
    "a = a/0\n",
    "\n"
   ]
  },
  {
   "cell_type": "markdown",
   "id": "38c6f8e9-6be5-45b3-9789-b955accd7d31",
   "metadata": {},
   "source": [
    "# Q3 Which python statements are used to catch and handle exception  ? Explain with an example"
   ]
  },
  {
   "cell_type": "code",
   "execution_count": 7,
   "id": "72c251d0-8144-4096-a51f-c31ccdaab015",
   "metadata": {},
   "outputs": [
    {
     "name": "stdout",
     "output_type": "stream",
     "text": [
      "An exception is raised known as  division by zero\n"
     ]
    }
   ],
   "source": [
    "\"\"\"\n",
    "try statment is used to catch the exception and 'except' statement is used to handle the exception\n",
    "\"\"\"\n",
    "a = 5\n",
    "try : \n",
    "    a = a/0\n",
    "    \n",
    "except Exception as e :\n",
    "    print(\"An exception is raised known as \", e)"
   ]
  },
  {
   "cell_type": "markdown",
   "id": "55c7e6ae-4545-48a9-b95f-440cd33b00e2",
   "metadata": {},
   "source": [
    "# Q4 Explain with example\n",
    "1)try and esle \n",
    "2)finally \n",
    "3)raise "
   ]
  },
  {
   "cell_type": "code",
   "execution_count": 10,
   "id": "63aeda93-86c7-4ac4-8bc7-20658a17a918",
   "metadata": {},
   "outputs": [
    {
     "name": "stdout",
     "output_type": "stream",
     "text": [
      "The error has occured still the else statement is executed\n"
     ]
    }
   ],
   "source": [
    "a = 5\n",
    "try : \n",
    "    a = a/2\n",
    "\n",
    "except Exception as e :\n",
    "    print(\"The exception is occured \")\n",
    "else :\n",
    "    print(\"The etry block  has occured still the else statement is executed\")"
   ]
  },
  {
   "cell_type": "code",
   "execution_count": 12,
   "id": "0df0dbb9-d026-40a3-a010-ed2b0bfea28f",
   "metadata": {},
   "outputs": [
    {
     "name": "stdout",
     "output_type": "stream",
     "text": [
      "The exception is occured \n",
      "This finally block can run in every situation\n"
     ]
    }
   ],
   "source": [
    "a = 5\n",
    "try : \n",
    "    a = a/0\n",
    "\n",
    "except Exception as e :\n",
    "    print(\"The exception is occured \")\n",
    "    \n",
    "finally :\n",
    "    print(\"This finally block can run in every situation\")"
   ]
  },
  {
   "cell_type": "code",
   "execution_count": 13,
   "id": "4d9cba0c-bbe5-419a-9955-1f60d52362cf",
   "metadata": {},
   "outputs": [
    {
     "data": {
      "text/plain": [
       "'\\nraise statement is used to call an excetion class or to invoke an exception if it is available \\n'"
      ]
     },
     "execution_count": 13,
     "metadata": {},
     "output_type": "execute_result"
    }
   ],
   "source": [
    "\"\"\"\n",
    "raise statement is used to call an excetion class or to invoke an exception if it is available \n",
    "\"\"\""
   ]
  },
  {
   "cell_type": "markdown",
   "id": "470c2cfd-71f4-4054-9d1b-68f08fb47d5d",
   "metadata": {},
   "source": [
    "# Q5 What are custom exceptions in python ? Why do we need custom exceptions ? explain with an example"
   ]
  },
  {
   "cell_type": "code",
   "execution_count": 29,
   "id": "184832c5-8947-4e4d-a951-25ece5af0203",
   "metadata": {},
   "outputs": [],
   "source": [
    "\"\"\"\n",
    "Custom exceptions are the exceptions which are created by the users and can be defined accoridingly to it.\n",
    "\"\"\"\n",
    "class exception(Exception):\n",
    "    \n",
    "    def __init__(self, msg):\n",
    "        self.msg = msg"
   ]
  },
  {
   "cell_type": "markdown",
   "id": "2c33d3d5-7e4e-49e2-8b3a-686156ffa401",
   "metadata": {},
   "source": [
    "# Q6 Create a custom exception class Use this class to handle an exception"
   ]
  },
  {
   "cell_type": "code",
   "execution_count": 53,
   "id": "9363d004-d75b-4f99-8e19-b8fd8631fde9",
   "metadata": {},
   "outputs": [],
   "source": [
    "class  validate_age(Exception):\n",
    "    \n",
    "    def __init__(self, msg):\n",
    "        self.msg = msg"
   ]
  },
  {
   "cell_type": "code",
   "execution_count": 54,
   "id": "1108cc5d-d13a-49ea-8485-c9ddada6b984",
   "metadata": {},
   "outputs": [],
   "source": [
    "def validateage(age):\n",
    "    \n",
    "    if age <= 0 :\n",
    "        raise validate_age(\"The age is negative\")\n",
    "    else: \n",
    "        print(\"The age is valid\")"
   ]
  },
  {
   "cell_type": "code",
   "execution_count": 56,
   "id": "8c26886a-ffb4-476a-98f9-3cea801b513a",
   "metadata": {},
   "outputs": [
    {
     "name": "stdin",
     "output_type": "stream",
     "text": [
      "Enter the age :  21\n"
     ]
    },
    {
     "name": "stdout",
     "output_type": "stream",
     "text": [
      "The age is valid\n"
     ]
    }
   ],
   "source": [
    "try: \n",
    "    age = int(input(\"Enter the age : \"))\n",
    "    validateage(age)\n",
    "except validate_age as e :\n",
    "    print(e)"
   ]
  },
  {
   "cell_type": "code",
   "execution_count": null,
   "id": "7b83398d-5010-44b3-8868-09214d6a2d4c",
   "metadata": {},
   "outputs": [],
   "source": []
  }
 ],
 "metadata": {
  "kernelspec": {
   "display_name": "Python 3 (ipykernel)",
   "language": "python",
   "name": "python3"
  },
  "language_info": {
   "codemirror_mode": {
    "name": "ipython",
    "version": 3
   },
   "file_extension": ".py",
   "mimetype": "text/x-python",
   "name": "python",
   "nbconvert_exporter": "python",
   "pygments_lexer": "ipython3",
   "version": "3.10.8"
  }
 },
 "nbformat": 4,
 "nbformat_minor": 5
}
